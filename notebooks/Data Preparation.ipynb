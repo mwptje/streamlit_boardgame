{
 "cells": [
  {
   "cell_type": "code",
   "execution_count": 1,
   "metadata": {},
   "outputs": [],
   "source": [
    "import pandas as pd\n",
    "import matplotlib.pyplot as plt\n",
    "import matplotlib.ticker as ticker\n",
    "import re\n",
    "# import plotly.graph_objects as go\n",
    "import streamlit as st\n",
    "import altair as alt\n",
    "import numpy as np\n",
    "\n",
    "def prepare_data_for_visualization(df):\n",
    "    df = df.set_index('Date')\n",
    "    grouper = df.groupby([pd.Grouper(freq='3D'), 'Game'])\n",
    "    result = grouper['Game'].count().unstack('Game').fillna(0)\n",
    "    for column in result.columns:\n",
    "        result[column] = result[column].cumsum()\n",
    "    result = result.rename({'Kingdomino ': 'Kingdomino'}, axis=1)\n",
    "    result = result.resample(\"3D\").pad()\n",
    "    \n",
    "    return result\n",
    "\n",
    "def prepare_data_for_bar_race(df):\n",
    "    output = df.T.copy()\n",
    "    \n",
    "    links = ['https://cf.geekdo-images.com/itemrep/img/hWxcNzC1olqP42dwYGjwW5qGQAs=/fit-in/246x300/pic3376065.jpg',\n",
    "             'https://cdn.arstechnica.net/wp-content/uploads/2018/07/IMG_4121-800x533.jpg',\n",
    "             'https://cf.geekdo-images.com/itemrep/img/PxmUXWwfs47siy6d8StJeSb482Q=/fit-in/246x300/pic3714302.jpg',\n",
    "             'https://cf.geekdo-images.com/itemrep/img/PcS7t2s53VDQwkDpFxVQq_iNv0Y=/fit-in/246x300/pic4059108.jpg',\n",
    "             'https://res.cloudinary.com/csicdn/image/upload/c_pad,fl_lossy,h_350,q_auto,w_350/v1/Images/Products/Misc%20Art/Czech%20Games%20Edition/full/CGE00040a.jpg',\n",
    "             'https://cf.geekdo-images.com/itemrep/img/I7L1q58TvT3MWFcp-OqZgIUDdqk=/fit-in/246x300/pic4275250.jpg',\n",
    "             'https://cf.geekdo-images.com/itemrep/img/VYu3d9_-pmgLdQbykJtp9RKsxZg=/fit-in/246x300/pic3496085.jpg',\n",
    "             'https://images-na.ssl-images-amazon.com/images/I/91sn9iNwqbL._SX355_.jpg',\n",
    "             'https://images-cdn.fantasyflightgames.com/filer_public/73/3e/733ee5ab-9728-44f1-8f33-0787f59d8c19/kf01_box_right.png',\n",
    "             'https://cf.geekdo-images.com/itemrep/img/D3DLTVXuNzL8n2p9BT_2alSfbZs=/fit-in/246x300/pic3132685.png',\n",
    "             'https://s.s-bol.com/imgbase0/imagebase3/extralarge/FC/3/4/4/8/1004004000008443_7.jpg',\n",
    "             'https://s.s-bol.com/imgbase0/imagebase3/large/FC/8/9/2/9/9200000079449298.jpg',\n",
    "             'https://cf.geekdo-images.com/itemrep/img/pdmInB3HR26IwV35yj0LB6bEmD4=/fit-in/246x300/pic3979766.png',\n",
    "             'https://cf.geekdo-images.com/itemrep/img/7eRwVcLlJ7KOTpGnbcdRJGRlfKk=/fit-in/246x300/pic1949286.jpg',\n",
    "             'https://s.s-bol.com/imgbase0/imagebase3/large/FC/4/2/2/6/9200000022076224.jpg',\n",
    "             'https://cf.geekdo-images.com/itemrep/img/8ixto0VaFd6sE11Eoi4olp3Vl9I=/fit-in/246x300/pic2520016.jpg',\n",
    "             'https://s.s-bol.com/imgbase0/imagebase3/large/FC/6/7/4/4/1004004004574476.jpg',\n",
    "             'https://www.jolie-spellen.nl/wp/wp-content/uploads/2013/08/rozenkoning-bordspel-white-goblin-games.jpg',\n",
    "             'https://images-na.ssl-images-amazon.com/images/I/91irtho0CNL._SL1500_.jpg',\n",
    "             'https://s.s-bol.com/imgbase0/imagebase3/large/FC/1/7/2/3/9200000080483271.jpg',\n",
    "             'https://i5.walmartimages.com/asr/6a31d2c3-ac74-4557-81ea-0190130f4ec7_1.be08fc7a3334f962ea5b9c318e2d81f1.png?odnHeight=450&odnWidth=450&odnBg=FFFFFF',\n",
    "             'https://s.s-bol.com/imgbase0/imagebase3/large/FC/7/6/2/6/9200000038446267.jpg',\n",
    "             'https://cf.geekdo-images.com/itemrep/img/o1PM_RNLP721yNFmZX-SRieWpis=/fit-in/246x300/pic3348790.jpg',\n",
    "             'https://cf.geekdo-images.com/itemrep/img/gZdBSpXLStMXF5s54qwZ5-5sIuY=/fit-in/246x300/pic646458.jpg',\n",
    "             'https://images-na.ssl-images-amazon.com/images/I/61TwK9%2BjNUL._SL1000_.jpg',\n",
    "             'https://cf.geekdo-images.com/itemrep/img/wbRpp7fVHwAbLBrQ3wBnvzUZvRM=/fit-in/246x300/pic3761012.jpg',\n",
    "             'https://cf.geekdo-images.com/itemrep/img/kB0chg-5_UcxKHtsfrlRhqSWcrU=/fit-in/246x300/pic3042240.jpg']\n",
    "    output['Image'] = links\n",
    "    output.columns = [str(column).split(' ')[0] for column in output.columns]\n",
    "    return output\n",
    "\n",
    "    \n",
    "def plot_graph(result, iloc, savefig=False):\n",
    "    colors = dict(zip(\n",
    "                ['7 Wonders Duel', 'Azul', 'Claim', 'Claim 2', 'Codenames Duet',\n",
    "                   'Discover Lands Unknown', 'Fox in the Forest', 'Jaipur', 'KeyForge',\n",
    "                   'Kingdomino', 'Machiavelli', 'Magic Maze', 'Mind', 'Port Royal',\n",
    "                   'Qwixx', 'Raptor', 'Regenwormen', 'Rozenkoning', 'Santorini',\n",
    "                   'Schotten Totten', 'Splendor', 'Sushi Go!', 'Unlock', 'Verboden Eiland',\n",
    "                   'Vergeten Stad', 'Welcome to…', \"What's up\"],\n",
    "                ['#90A4AE', '#E0E0E0', '#A1887F', '#FF8A65',\n",
    "                 '#FFB74D', '#FFD54F', '#FFF176', '#DCE775',\n",
    "                 '#AED581', '#81C784', '#4DB6AC', '#4DD0E1',\n",
    "                 '#4FC3F7', '#64B5F6', '#7986CB', '#9575CD',\n",
    "                 '#BA68C8', '#F06292', '#e57373', '#4DD0E1',\n",
    "                 '#4FC3F7', '#64B5F6', '#7986CB', '#9575CD',\n",
    "                 '#4FC3F7', '#64B5F6', '#7986CB',]\n",
    "            ))\n",
    "\n",
    "    names = result.iloc[iloc].sort_values(ascending=True).index[-10:]\n",
    "    values = result.iloc[iloc].sort_values(ascending=True).values[-10:]\n",
    "\n",
    "\n",
    "    indices = [i for i, x in enumerate(values) if (x == 0)]\n",
    "    \n",
    "    text_names = [\"\" if i in indices else x for i, x in enumerate(names)]\n",
    "    text_names = [x if (\" \" not in x) else x.replace(\" \", \"\\n\") for x in text_names]\n",
    "    text_names = [\"Fox in\\nthe forest\" if x == 'Fox\\nin\\nthe\\nForest' else x for x in text_names]\n",
    "    \n",
    "    time = str(result.iloc[iloc].name).split(\" \")[0]\n",
    "\n",
    "    fig, ax = plt.subplots(figsize=(15, 8))\n",
    "    ax.clear()\n",
    "    ax.barh(names, values, color=[colors[x] for x in names])\n",
    "    dx = max(values) / 200\n",
    "\n",
    "    for i, (value, name) in enumerate(zip(values, text_names)):\n",
    "        if \"\\n\" in name:\n",
    "            ax.text(value-dx, i-.3,     name,           size=12, weight=600, ha='right', va='bottom')\n",
    "        else:\n",
    "            ax.text(value-dx, i-.1,     name,           size=12, weight=600, ha='right', va='bottom')\n",
    "        ax.text(value-dx, i-.25, \"\", size=10, color='#444444', ha='right', va='baseline')\n",
    "        ax.text(value+dx, i,     f'{value:,.0f}',  size=14, ha='left',  va='center')\n",
    "\n",
    "    # ... polished styles\n",
    "    year = \"2018\"\n",
    "    ax.text(1, 0.4, time, transform=ax.transAxes, color='#777777', size=46, ha='right', weight=800)\n",
    "    ax.text(0, 1.06, 'Total', transform=ax.transAxes, size=12, color='#777777')\n",
    "    ax.xaxis.set_major_formatter(ticker.StrMethodFormatter('{x:,.0f}'))\n",
    "    ax.xaxis.set_ticks_position('top')\n",
    "    ax.tick_params(axis='x', colors='#777777', labelsize=12)\n",
    "    ax.set_yticks([])\n",
    "    ax.margins(0, 0.01)\n",
    "    ax.grid(which='major', axis='x', linestyle='-')\n",
    "    ax.set_axisbelow(True)\n",
    "    ax.text(0, 1.12, 'The most popular board games I played in one year',\n",
    "            transform=ax.transAxes, size=24, weight=600, ha='left')\n",
    "    plt.box(False)\n",
    "    plt.tight_layout()\n",
    "    \n",
    "    if savefig:\n",
    "        plt.savefig('images/image_{}.png'.format(iloc), dpi=50)\n",
    "        plt.close(fig)\n",
    "        \n",
    "def extract_players(df):\n",
    "    \"\"\" Extract a list of players\"\"\"\n",
    "    player_list = df.Players.unique()\n",
    "    player_list = [players.split('+') for players in player_list]\n",
    "    player_list = list(set([player for sublist in player_list for player in sublist]))\n",
    "    return player_list\n",
    "\n",
    "def extract_score(row):\n",
    "    \"\"\" Extract the score per person by checking whether there\n",
    "    are multiple players in the game which are connected with a \n",
    "    + symbol\n",
    "    \"\"\"\n",
    "    scores = str(row.Scores)\n",
    "    \n",
    "    if (\"+\" in scores) and (re.findall(\"\\d+\",scores)):\n",
    "        scores = scores.split(\"+\")\n",
    "        \n",
    "        scores_dict = {re.findall(\"[a-zA-Z]+\", score)[0] : \n",
    "                       re.findall(\"\\d+\", score)[0] for score in scores}\n",
    "\n",
    "        for player in scores_dict.keys():\n",
    "            row[player+'_score'] = int(scores_dict[player])\n",
    "\n",
    "    return row\n",
    "            \n",
    "def extract_winner(row, player_list):\n",
    "    \"\"\" Extract the winner(s) per game\n",
    "    \"\"\"\n",
    "    \n",
    "    winners = str(row.Winner).split(\"+\")\n",
    "    \n",
    "    for winner in winners:\n",
    "        if winner in player_list:\n",
    "            row[winner+\"_winner\"] = 1\n",
    "\n",
    "    return row\n",
    "\n",
    "def extract_has_score(row, player_list):\n",
    "    \"\"\"Check whether the game actually has a score\"\"\"\n",
    "    \n",
    "    scores = 0\n",
    "    \n",
    "    for player in player_list:\n",
    "        scores += row[player+\"_score\"]\n",
    "    \n",
    "    if scores>0:\n",
    "        row['has_score'] = 1\n",
    "\n",
    "    return row\n",
    "\n",
    "def extract_has_winner(row, player_list):\n",
    "    \"\"\"Check whether the game actually has a score\"\"\"\n",
    "    \n",
    "    for player in player_list:\n",
    "        if row[player+\"_winner\"] == 1:\n",
    "            row['has_winner'] = 1        \n",
    "            return row\n",
    "\n",
    "    return row\n",
    "\n",
    "def extract_has_played(row, player_list):\n",
    "    \"\"\"Check whether a person played in the game\"\"\"\n",
    "    played = str(row.Players).split(\"+\")\n",
    "    \n",
    "    for player in played:\n",
    "        if player in player_list:\n",
    "            row[player+\"_played\"] = 1\n",
    "\n",
    "    return row"
   ]
  },
  {
   "cell_type": "markdown",
   "metadata": {},
   "source": [
    "## Load Data"
   ]
  },
  {
   "cell_type": "code",
   "execution_count": 2,
   "metadata": {},
   "outputs": [],
   "source": [
    "df = pd.read_excel(\"https://github.com/MaartenGr/boardgame/blob/master/files/matches.xlsx?raw=true\")"
   ]
  },
  {
   "cell_type": "code",
   "execution_count": 3,
   "metadata": {},
   "outputs": [
    {
     "data": {
      "text/html": [
       "<div>\n",
       "<style scoped>\n",
       "    .dataframe tbody tr th:only-of-type {\n",
       "        vertical-align: middle;\n",
       "    }\n",
       "\n",
       "    .dataframe tbody tr th {\n",
       "        vertical-align: top;\n",
       "    }\n",
       "\n",
       "    .dataframe thead th {\n",
       "        text-align: right;\n",
       "    }\n",
       "</style>\n",
       "<table border=\"1\" class=\"dataframe\">\n",
       "  <thead>\n",
       "    <tr style=\"text-align: right;\">\n",
       "      <th></th>\n",
       "      <th>Date</th>\n",
       "      <th>Players</th>\n",
       "      <th>Game</th>\n",
       "      <th>Scores</th>\n",
       "      <th>Winner</th>\n",
       "      <th>Version</th>\n",
       "    </tr>\n",
       "  </thead>\n",
       "  <tbody>\n",
       "    <tr>\n",
       "      <th>0</th>\n",
       "      <td>2018-11-18</td>\n",
       "      <td>I+M</td>\n",
       "      <td>Qwixx</td>\n",
       "      <td>I77+M77</td>\n",
       "      <td>I+M</td>\n",
       "      <td>Normal</td>\n",
       "    </tr>\n",
       "    <tr>\n",
       "      <th>1</th>\n",
       "      <td>2018-11-18</td>\n",
       "      <td>I+M</td>\n",
       "      <td>Qwixx</td>\n",
       "      <td>I104+M65</td>\n",
       "      <td>I</td>\n",
       "      <td>Normal</td>\n",
       "    </tr>\n",
       "    <tr>\n",
       "      <th>2</th>\n",
       "      <td>2018-11-18</td>\n",
       "      <td>I+M</td>\n",
       "      <td>Qwixx</td>\n",
       "      <td>I96+M62</td>\n",
       "      <td>I</td>\n",
       "      <td>Normal</td>\n",
       "    </tr>\n",
       "    <tr>\n",
       "      <th>3</th>\n",
       "      <td>2018-11-18</td>\n",
       "      <td>I+M</td>\n",
       "      <td>Mind</td>\n",
       "      <td>LVL10</td>\n",
       "      <td>NaN</td>\n",
       "      <td>Normal</td>\n",
       "    </tr>\n",
       "    <tr>\n",
       "      <th>4</th>\n",
       "      <td>2018-11-18</td>\n",
       "      <td>I+M</td>\n",
       "      <td>Mind</td>\n",
       "      <td>LVL4</td>\n",
       "      <td>NaN</td>\n",
       "      <td>Normal</td>\n",
       "    </tr>\n",
       "  </tbody>\n",
       "</table>\n",
       "</div>"
      ],
      "text/plain": [
       "        Date Players   Game    Scores Winner Version\n",
       "0 2018-11-18     I+M  Qwixx   I77+M77    I+M  Normal\n",
       "1 2018-11-18     I+M  Qwixx  I104+M65      I  Normal\n",
       "2 2018-11-18     I+M  Qwixx   I96+M62      I  Normal\n",
       "3 2018-11-18     I+M   Mind     LVL10    NaN  Normal\n",
       "4 2018-11-18     I+M   Mind      LVL4    NaN  Normal"
      ]
     },
     "execution_count": 3,
     "metadata": {},
     "output_type": "execute_result"
    }
   ],
   "source": [
    "df.head()"
   ]
  },
  {
   "cell_type": "code",
   "execution_count": 19,
   "metadata": {},
   "outputs": [],
   "source": [
    "# df = pd.read_excel(\"files/matches.xlsx\")"
   ]
  },
  {
   "cell_type": "markdown",
   "metadata": {},
   "source": [
    "## Prepare Data for Exploration"
   ]
  },
  {
   "cell_type": "code",
   "execution_count": 3,
   "metadata": {},
   "outputs": [],
   "source": [
    "player_list = extract_players(df); player_list\n",
    "for player in player_list:\n",
    "    df[player+\"_score\"] = 0\n",
    "    df[player+\"_winner\"] = 0\n",
    "    df[player+\"_played\"] = 0\n",
    "df['has_score'] = 0\n",
    "df['has_winner'] = 0\n",
    "\n",
    "df = df.apply(lambda row: extract_score(row), 1)\n",
    "df = df.apply(lambda row: extract_winner(row, player_list), 1)\n",
    "df = df.apply(lambda row: extract_has_score(row, player_list), 1)\n",
    "df = df.apply(lambda row: extract_has_winner(row, player_list), 1)\n",
    "df = df.apply(lambda row: extract_has_played(row, player_list), 1)\n",
    "df['Nr_players'] = df.apply(lambda row: len(str(row.Players).split(\"+\")), 1)"
   ]
  },
  {
   "cell_type": "code",
   "execution_count": 87,
   "metadata": {},
   "outputs": [],
   "source": [
    "df.to_csv(\"files/boardgame_new.csv\")"
   ]
  },
  {
   "cell_type": "code",
   "execution_count": 5,
   "metadata": {},
   "outputs": [
    {
     "data": {
      "text/plain": [
       "['PA', 'MA', 'E', 'I', 'WO', 'EV', 'G', 'DA', 'M', 'C', 'IR']"
      ]
     },
     "execution_count": 5,
     "metadata": {},
     "output_type": "execute_result"
    }
   ],
   "source": [
    "player_list"
   ]
  },
  {
   "cell_type": "code",
   "execution_count": 7,
   "metadata": {},
   "outputs": [],
   "source": [
    "select_player = \"M\"\n",
    "grouped = df.loc[(df.has_score==1) &\n",
    "                 (df.has_winner==1) &\n",
    "                 (df[select_player+\"_played\"]==1), :]\n",
    "selection = grouped.groupby(\"Game\").mean()[[select_player+'_score']].reset_index()"
   ]
  },
  {
   "cell_type": "code",
   "execution_count": 5,
   "metadata": {},
   "outputs": [],
   "source": [
    "from vega_datasets import data\n"
   ]
  },
  {
   "cell_type": "code",
   "execution_count": 15,
   "metadata": {},
   "outputs": [
    {
     "data": {
      "text/html": [
       "<div>\n",
       "<style scoped>\n",
       "    .dataframe tbody tr th:only-of-type {\n",
       "        vertical-align: middle;\n",
       "    }\n",
       "\n",
       "    .dataframe tbody tr th {\n",
       "        vertical-align: top;\n",
       "    }\n",
       "\n",
       "    .dataframe thead th {\n",
       "        text-align: right;\n",
       "    }\n",
       "</style>\n",
       "<table border=\"1\" class=\"dataframe\">\n",
       "  <thead>\n",
       "    <tr style=\"text-align: right;\">\n",
       "      <th></th>\n",
       "      <th>Date</th>\n",
       "      <th>Players</th>\n",
       "      <th>Game</th>\n",
       "      <th>Scores</th>\n",
       "      <th>Winner</th>\n",
       "      <th>Version</th>\n",
       "      <th>G_score</th>\n",
       "      <th>G_winner</th>\n",
       "      <th>G_played</th>\n",
       "      <th>DA_score</th>\n",
       "      <th>...</th>\n",
       "      <th>WO_winner</th>\n",
       "      <th>WO_played</th>\n",
       "      <th>E_score</th>\n",
       "      <th>E_winner</th>\n",
       "      <th>E_played</th>\n",
       "      <th>MA_score</th>\n",
       "      <th>MA_winner</th>\n",
       "      <th>MA_played</th>\n",
       "      <th>has_score</th>\n",
       "      <th>has_winner</th>\n",
       "    </tr>\n",
       "  </thead>\n",
       "  <tbody>\n",
       "    <tr>\n",
       "      <th>0</th>\n",
       "      <td>2018-11-18</td>\n",
       "      <td>I+M</td>\n",
       "      <td>Qwixx</td>\n",
       "      <td>I77+M77</td>\n",
       "      <td>I+M</td>\n",
       "      <td>Normal</td>\n",
       "      <td>0</td>\n",
       "      <td>0</td>\n",
       "      <td>0</td>\n",
       "      <td>0</td>\n",
       "      <td>...</td>\n",
       "      <td>0</td>\n",
       "      <td>0</td>\n",
       "      <td>0</td>\n",
       "      <td>0</td>\n",
       "      <td>0</td>\n",
       "      <td>0</td>\n",
       "      <td>0</td>\n",
       "      <td>0</td>\n",
       "      <td>1</td>\n",
       "      <td>1</td>\n",
       "    </tr>\n",
       "    <tr>\n",
       "      <th>1</th>\n",
       "      <td>2018-11-18</td>\n",
       "      <td>I+M</td>\n",
       "      <td>Qwixx</td>\n",
       "      <td>I104+M65</td>\n",
       "      <td>I</td>\n",
       "      <td>Normal</td>\n",
       "      <td>0</td>\n",
       "      <td>0</td>\n",
       "      <td>0</td>\n",
       "      <td>0</td>\n",
       "      <td>...</td>\n",
       "      <td>0</td>\n",
       "      <td>0</td>\n",
       "      <td>0</td>\n",
       "      <td>0</td>\n",
       "      <td>0</td>\n",
       "      <td>0</td>\n",
       "      <td>0</td>\n",
       "      <td>0</td>\n",
       "      <td>1</td>\n",
       "      <td>1</td>\n",
       "    </tr>\n",
       "    <tr>\n",
       "      <th>2</th>\n",
       "      <td>2018-11-18</td>\n",
       "      <td>I+M</td>\n",
       "      <td>Qwixx</td>\n",
       "      <td>I96+M62</td>\n",
       "      <td>I</td>\n",
       "      <td>Normal</td>\n",
       "      <td>0</td>\n",
       "      <td>0</td>\n",
       "      <td>0</td>\n",
       "      <td>0</td>\n",
       "      <td>...</td>\n",
       "      <td>0</td>\n",
       "      <td>0</td>\n",
       "      <td>0</td>\n",
       "      <td>0</td>\n",
       "      <td>0</td>\n",
       "      <td>0</td>\n",
       "      <td>0</td>\n",
       "      <td>0</td>\n",
       "      <td>1</td>\n",
       "      <td>1</td>\n",
       "    </tr>\n",
       "    <tr>\n",
       "      <th>3</th>\n",
       "      <td>2018-11-18</td>\n",
       "      <td>I+M</td>\n",
       "      <td>Mind</td>\n",
       "      <td>LVL10</td>\n",
       "      <td>NaN</td>\n",
       "      <td>Normal</td>\n",
       "      <td>0</td>\n",
       "      <td>0</td>\n",
       "      <td>0</td>\n",
       "      <td>0</td>\n",
       "      <td>...</td>\n",
       "      <td>0</td>\n",
       "      <td>0</td>\n",
       "      <td>0</td>\n",
       "      <td>0</td>\n",
       "      <td>0</td>\n",
       "      <td>0</td>\n",
       "      <td>0</td>\n",
       "      <td>0</td>\n",
       "      <td>0</td>\n",
       "      <td>0</td>\n",
       "    </tr>\n",
       "    <tr>\n",
       "      <th>4</th>\n",
       "      <td>2018-11-18</td>\n",
       "      <td>I+M</td>\n",
       "      <td>Mind</td>\n",
       "      <td>LVL4</td>\n",
       "      <td>NaN</td>\n",
       "      <td>Normal</td>\n",
       "      <td>0</td>\n",
       "      <td>0</td>\n",
       "      <td>0</td>\n",
       "      <td>0</td>\n",
       "      <td>...</td>\n",
       "      <td>0</td>\n",
       "      <td>0</td>\n",
       "      <td>0</td>\n",
       "      <td>0</td>\n",
       "      <td>0</td>\n",
       "      <td>0</td>\n",
       "      <td>0</td>\n",
       "      <td>0</td>\n",
       "      <td>0</td>\n",
       "      <td>0</td>\n",
       "    </tr>\n",
       "  </tbody>\n",
       "</table>\n",
       "<p>5 rows × 41 columns</p>\n",
       "</div>"
      ],
      "text/plain": [
       "        Date Players   Game    Scores Winner Version  G_score  G_winner  \\\n",
       "0 2018-11-18     I+M  Qwixx   I77+M77    I+M  Normal        0         0   \n",
       "1 2018-11-18     I+M  Qwixx  I104+M65      I  Normal        0         0   \n",
       "2 2018-11-18     I+M  Qwixx   I96+M62      I  Normal        0         0   \n",
       "3 2018-11-18     I+M   Mind     LVL10    NaN  Normal        0         0   \n",
       "4 2018-11-18     I+M   Mind      LVL4    NaN  Normal        0         0   \n",
       "\n",
       "   G_played  DA_score  ...  WO_winner  WO_played  E_score  E_winner  E_played  \\\n",
       "0         0         0  ...          0          0        0         0         0   \n",
       "1         0         0  ...          0          0        0         0         0   \n",
       "2         0         0  ...          0          0        0         0         0   \n",
       "3         0         0  ...          0          0        0         0         0   \n",
       "4         0         0  ...          0          0        0         0         0   \n",
       "\n",
       "   MA_score  MA_winner  MA_played  has_score  has_winner  \n",
       "0         0          0          0          1           1  \n",
       "1         0          0          0          1           1  \n",
       "2         0          0          0          1           1  \n",
       "3         0          0          0          0           0  \n",
       "4         0          0          0          0           0  \n",
       "\n",
       "[5 rows x 41 columns]"
      ]
     },
     "execution_count": 15,
     "metadata": {},
     "output_type": "execute_result"
    }
   ],
   "source": [
    "df.head()"
   ]
  },
  {
   "cell_type": "markdown",
   "metadata": {},
   "source": [
    "## Stats Ideas\n",
    "(1) The longest time between games  \n",
    "(2) The longest time between games per person?  \n",
    "(3) The most games played on a day  \n",
    "(4) The most games played on a day by person  \n",
    "(5) Longest subsequent number of days played  "
   ]
  },
  {
   "cell_type": "code",
   "execution_count": null,
   "metadata": {},
   "outputs": [],
   "source": [
    "most_games_day = 0\n",
    "most_games_day_person = 0\n",
    "# with these and these players, on this date where X won the most games"
   ]
  },
  {
   "cell_type": "code",
   "execution_count": 239,
   "metadata": {},
   "outputs": [],
   "source": [
    "grouped_date = df.groupby(\"Date\").count()\n",
    "most_games_idx = grouped_date.Players.to_numpy().argmax()\n",
    "most_games = grouped_date.Players.to_numpy().max()\n",
    "date = grouped_date.index[most_games_idx]"
   ]
  },
  {
   "cell_type": "code",
   "execution_count": 256,
   "metadata": {},
   "outputs": [],
   "source": [
    "played = [column for column in df.columns if \"_played\" in column]\n",
    "played = df.loc[df.Date == date, played]\n",
    "played_idx = np.where(to_do.any(axis=0))[0]\n",
    "players = [player.split(\"_\")[0] for player in played.columns[played_idx]]"
   ]
  },
  {
   "cell_type": "code",
   "execution_count": 103,
   "metadata": {},
   "outputs": [],
   "source": [
    "player_one = \"I\"\n",
    "player_two = \"M\"\n",
    "player_one_won = 5\n",
    "player_two_won = 4"
   ]
  },
  {
   "cell_type": "code",
   "execution_count": 109,
   "metadata": {},
   "outputs": [],
   "source": [
    "to_plot = pd.DataFrame([[player_one_won, player_one],\n",
    "                        [player_two_won, player_two]], columns=['Player', 'Results'])"
   ]
  },
  {
   "cell_type": "code",
   "execution_count": 110,
   "metadata": {},
   "outputs": [
    {
     "data": {
      "text/html": [
       "<div>\n",
       "<style scoped>\n",
       "    .dataframe tbody tr th:only-of-type {\n",
       "        vertical-align: middle;\n",
       "    }\n",
       "\n",
       "    .dataframe tbody tr th {\n",
       "        vertical-align: top;\n",
       "    }\n",
       "\n",
       "    .dataframe thead th {\n",
       "        text-align: right;\n",
       "    }\n",
       "</style>\n",
       "<table border=\"1\" class=\"dataframe\">\n",
       "  <thead>\n",
       "    <tr style=\"text-align: right;\">\n",
       "      <th></th>\n",
       "      <th>Player</th>\n",
       "      <th>Results</th>\n",
       "    </tr>\n",
       "  </thead>\n",
       "  <tbody>\n",
       "    <tr>\n",
       "      <td>0</td>\n",
       "      <td>5</td>\n",
       "      <td>I</td>\n",
       "    </tr>\n",
       "    <tr>\n",
       "      <td>1</td>\n",
       "      <td>4</td>\n",
       "      <td>M</td>\n",
       "    </tr>\n",
       "  </tbody>\n",
       "</table>\n",
       "</div>"
      ],
      "text/plain": [
       "   Player Results\n",
       "0       5       I\n",
       "1       4       M"
      ]
     },
     "execution_count": 110,
     "metadata": {},
     "output_type": "execute_result"
    }
   ],
   "source": [
    "to_plot"
   ]
  },
  {
   "cell_type": "code",
   "execution_count": 95,
   "metadata": {},
   "outputs": [
    {
     "data": {
      "text/html": [
       "<div>\n",
       "<style scoped>\n",
       "    .dataframe tbody tr th:only-of-type {\n",
       "        vertical-align: middle;\n",
       "    }\n",
       "\n",
       "    .dataframe tbody tr th {\n",
       "        vertical-align: top;\n",
       "    }\n",
       "\n",
       "    .dataframe thead th {\n",
       "        text-align: right;\n",
       "    }\n",
       "</style>\n",
       "<table border=\"1\" class=\"dataframe\">\n",
       "  <thead>\n",
       "    <tr style=\"text-align: right;\">\n",
       "      <th></th>\n",
       "      <th>Date</th>\n",
       "      <th>Players</th>\n",
       "      <th>Game</th>\n",
       "      <th>Scores</th>\n",
       "      <th>Winner</th>\n",
       "      <th>Version</th>\n",
       "      <th>MA_score</th>\n",
       "      <th>MA_winner</th>\n",
       "      <th>MA_played</th>\n",
       "      <th>C_score</th>\n",
       "      <th>...</th>\n",
       "      <th>E_played</th>\n",
       "      <th>IR_score</th>\n",
       "      <th>IR_winner</th>\n",
       "      <th>IR_played</th>\n",
       "      <th>EV_score</th>\n",
       "      <th>EV_winner</th>\n",
       "      <th>EV_played</th>\n",
       "      <th>has_score</th>\n",
       "      <th>has_winner</th>\n",
       "      <th>Nr_players</th>\n",
       "    </tr>\n",
       "  </thead>\n",
       "  <tbody>\n",
       "    <tr>\n",
       "      <td>0</td>\n",
       "      <td>2018-11-18</td>\n",
       "      <td>I+M</td>\n",
       "      <td>Qwixx</td>\n",
       "      <td>I77+M77</td>\n",
       "      <td>I+M</td>\n",
       "      <td>Normal</td>\n",
       "      <td>0</td>\n",
       "      <td>0</td>\n",
       "      <td>0</td>\n",
       "      <td>0</td>\n",
       "      <td>...</td>\n",
       "      <td>0</td>\n",
       "      <td>0</td>\n",
       "      <td>0</td>\n",
       "      <td>0</td>\n",
       "      <td>0</td>\n",
       "      <td>0</td>\n",
       "      <td>0</td>\n",
       "      <td>1</td>\n",
       "      <td>1</td>\n",
       "      <td>2</td>\n",
       "    </tr>\n",
       "    <tr>\n",
       "      <td>1</td>\n",
       "      <td>2018-11-18</td>\n",
       "      <td>I+M</td>\n",
       "      <td>Qwixx</td>\n",
       "      <td>I104+M65</td>\n",
       "      <td>I</td>\n",
       "      <td>Normal</td>\n",
       "      <td>0</td>\n",
       "      <td>0</td>\n",
       "      <td>0</td>\n",
       "      <td>0</td>\n",
       "      <td>...</td>\n",
       "      <td>0</td>\n",
       "      <td>0</td>\n",
       "      <td>0</td>\n",
       "      <td>0</td>\n",
       "      <td>0</td>\n",
       "      <td>0</td>\n",
       "      <td>0</td>\n",
       "      <td>1</td>\n",
       "      <td>1</td>\n",
       "      <td>2</td>\n",
       "    </tr>\n",
       "    <tr>\n",
       "      <td>2</td>\n",
       "      <td>2018-11-18</td>\n",
       "      <td>I+M</td>\n",
       "      <td>Qwixx</td>\n",
       "      <td>I96+M62</td>\n",
       "      <td>I</td>\n",
       "      <td>Normal</td>\n",
       "      <td>0</td>\n",
       "      <td>0</td>\n",
       "      <td>0</td>\n",
       "      <td>0</td>\n",
       "      <td>...</td>\n",
       "      <td>0</td>\n",
       "      <td>0</td>\n",
       "      <td>0</td>\n",
       "      <td>0</td>\n",
       "      <td>0</td>\n",
       "      <td>0</td>\n",
       "      <td>0</td>\n",
       "      <td>1</td>\n",
       "      <td>1</td>\n",
       "      <td>2</td>\n",
       "    </tr>\n",
       "    <tr>\n",
       "      <td>7</td>\n",
       "      <td>2018-11-22</td>\n",
       "      <td>I+M</td>\n",
       "      <td>Qwixx</td>\n",
       "      <td>I96+M78</td>\n",
       "      <td>I</td>\n",
       "      <td>Normal</td>\n",
       "      <td>0</td>\n",
       "      <td>0</td>\n",
       "      <td>0</td>\n",
       "      <td>0</td>\n",
       "      <td>...</td>\n",
       "      <td>0</td>\n",
       "      <td>0</td>\n",
       "      <td>0</td>\n",
       "      <td>0</td>\n",
       "      <td>0</td>\n",
       "      <td>0</td>\n",
       "      <td>0</td>\n",
       "      <td>1</td>\n",
       "      <td>1</td>\n",
       "      <td>2</td>\n",
       "    </tr>\n",
       "    <tr>\n",
       "      <td>8</td>\n",
       "      <td>2018-11-22</td>\n",
       "      <td>I+M</td>\n",
       "      <td>Qwixx</td>\n",
       "      <td>I48+M54</td>\n",
       "      <td>M</td>\n",
       "      <td>Normal</td>\n",
       "      <td>0</td>\n",
       "      <td>0</td>\n",
       "      <td>0</td>\n",
       "      <td>0</td>\n",
       "      <td>...</td>\n",
       "      <td>0</td>\n",
       "      <td>0</td>\n",
       "      <td>0</td>\n",
       "      <td>0</td>\n",
       "      <td>0</td>\n",
       "      <td>0</td>\n",
       "      <td>0</td>\n",
       "      <td>1</td>\n",
       "      <td>1</td>\n",
       "      <td>2</td>\n",
       "    </tr>\n",
       "  </tbody>\n",
       "</table>\n",
       "<p>5 rows × 42 columns</p>\n",
       "</div>"
      ],
      "text/plain": [
       "        Date Players   Game    Scores Winner Version  MA_score  MA_winner  \\\n",
       "0 2018-11-18     I+M  Qwixx   I77+M77    I+M  Normal         0          0   \n",
       "1 2018-11-18     I+M  Qwixx  I104+M65      I  Normal         0          0   \n",
       "2 2018-11-18     I+M  Qwixx   I96+M62      I  Normal         0          0   \n",
       "7 2018-11-22     I+M  Qwixx   I96+M78      I  Normal         0          0   \n",
       "8 2018-11-22     I+M  Qwixx   I48+M54      M  Normal         0          0   \n",
       "\n",
       "   MA_played  C_score  ...  E_played  IR_score  IR_winner  IR_played  \\\n",
       "0          0        0  ...         0         0          0          0   \n",
       "1          0        0  ...         0         0          0          0   \n",
       "2          0        0  ...         0         0          0          0   \n",
       "7          0        0  ...         0         0          0          0   \n",
       "8          0        0  ...         0         0          0          0   \n",
       "\n",
       "   EV_score  EV_winner  EV_played  has_score  has_winner  Nr_players  \n",
       "0         0          0          0          1           1           2  \n",
       "1         0          0          0          1           1           2  \n",
       "2         0          0          0          1           1           2  \n",
       "7         0          0          0          1           1           2  \n",
       "8         0          0          0          1           1           2  \n",
       "\n",
       "[5 rows x 42 columns]"
      ]
     },
     "execution_count": 95,
     "metadata": {},
     "output_type": "execute_result"
    }
   ],
   "source": [
    "selection.head()"
   ]
  },
  {
   "cell_type": "code",
   "execution_count": 50,
   "metadata": {},
   "outputs": [],
   "source": [
    "player_one = \"M\"\n",
    "player_two = \"I\"\n",
    "\n",
    "games = df.loc[(df[player_one + \"_played\"] == 1) &\n",
    "               (df[player_two + \"_played\"] == 1) &\n",
    "               (df[\"Nr_players\"] == 2), :]\n",
    "player_one_won = len(games[games[player_one + \"_winner\"] == 1])\n",
    "player_two_won = len(games[games[player_two + \"_winner\"] == 1])\n",
    "to_plot = pd.DataFrame([[player_one_won, player_one],\n",
    "                        [player_two_won, player_two]], columns=['Results', 'Player'])\n"
   ]
  },
  {
   "cell_type": "code",
   "execution_count": 104,
   "metadata": {},
   "outputs": [],
   "source": [
    "player_one = 'I'\n",
    "player_two = 'M'\n",
    "game = 'Qwixx'\n",
    "selection = df.loc[(df.Game==game) &\n",
    "                   (df[player_one + '_played'] == 1) &\n",
    "                   (df[player_two + '_played'] == 1) , :]\n",
    "\n",
    "player_one_vals = list(selection[player_one + '_score'].values)\n",
    "player_two_vals = list(selection[player_two + '_score'].values)\n",
    "vals = player_one_vals + player_two_vals\n",
    "player_indices = [player_one if i < len(player_one_vals) else player_two for i, _ in enumerate(vals)]\n",
    "indices = list(np.arange(len(vals)/2))\n",
    "indices = indices + indices\n",
    "\n",
    "to_plot = pd.DataFrame(np.array([indices, vals, player_indices]).T, columns=['Indices', 'Scores', 'Players'])\n",
    "to_plot.Indices = to_plot.Indices.astype(float)\n",
    "to_plot.Scores = to_plot.Scores.astype(float)"
   ]
  },
  {
   "cell_type": "code",
   "execution_count": 106,
   "metadata": {},
   "outputs": [],
   "source": [
    "result = pd.DataFrame(columns=['Player', 'Game', 'Avg', 'Min', 'Max', 'Number'])\n",
    "\n",
    "for player in [player_one, player_two]:\n",
    "        values = selection.loc[(selection[player + \"_played\"] == 1), player + \"_score\"].values\n",
    "        result.loc[len(result), :] = [player, game, round(np.mean(values)), min(values),\n",
    "                                      max(values), len(values)]"
   ]
  },
  {
   "cell_type": "code",
   "execution_count": 107,
   "metadata": {},
   "outputs": [
    {
     "data": {
      "text/html": [
       "<div>\n",
       "<style scoped>\n",
       "    .dataframe tbody tr th:only-of-type {\n",
       "        vertical-align: middle;\n",
       "    }\n",
       "\n",
       "    .dataframe tbody tr th {\n",
       "        vertical-align: top;\n",
       "    }\n",
       "\n",
       "    .dataframe thead th {\n",
       "        text-align: right;\n",
       "    }\n",
       "</style>\n",
       "<table border=\"1\" class=\"dataframe\">\n",
       "  <thead>\n",
       "    <tr style=\"text-align: right;\">\n",
       "      <th></th>\n",
       "      <th>Player</th>\n",
       "      <th>Game</th>\n",
       "      <th>Avg</th>\n",
       "      <th>Min</th>\n",
       "      <th>Max</th>\n",
       "      <th>Number</th>\n",
       "    </tr>\n",
       "  </thead>\n",
       "  <tbody>\n",
       "    <tr>\n",
       "      <th>0</th>\n",
       "      <td>I</td>\n",
       "      <td>Qwixx</td>\n",
       "      <td>86</td>\n",
       "      <td>22</td>\n",
       "      <td>172</td>\n",
       "      <td>66</td>\n",
       "    </tr>\n",
       "    <tr>\n",
       "      <th>1</th>\n",
       "      <td>M</td>\n",
       "      <td>Qwixx</td>\n",
       "      <td>74</td>\n",
       "      <td>21</td>\n",
       "      <td>308</td>\n",
       "      <td>66</td>\n",
       "    </tr>\n",
       "  </tbody>\n",
       "</table>\n",
       "</div>"
      ],
      "text/plain": [
       "  Player   Game Avg Min  Max Number\n",
       "0      I  Qwixx  86  22  172     66\n",
       "1      M  Qwixx  74  21  308     66"
      ]
     },
     "execution_count": 107,
     "metadata": {},
     "output_type": "execute_result"
    }
   ],
   "source": [
    "result"
   ]
  },
  {
   "cell_type": "code",
   "execution_count": 109,
   "metadata": {},
   "outputs": [],
   "source": [
    "test = ['ba', 'bc', 'ac']"
   ]
  },
  {
   "cell_type": "code",
   "execution_count": 110,
   "metadata": {},
   "outputs": [],
   "source": [
    "test.sort()"
   ]
  },
  {
   "cell_type": "code",
   "execution_count": 111,
   "metadata": {},
   "outputs": [
    {
     "data": {
      "text/plain": [
       "['ac', 'ba', 'bc']"
      ]
     },
     "execution_count": 111,
     "metadata": {},
     "output_type": "execute_result"
    }
   ],
   "source": [
    "test"
   ]
  },
  {
   "cell_type": "code",
   "execution_count": null,
   "metadata": {},
   "outputs": [],
   "source": [
    "alt.Chart(source).mark_bar().encode(\n",
    "    x='Player:Q',\n",
    "    y='year:O',\n",
    "    color='year:N',\n",
    "    row='site:N'\n",
    ")"
   ]
  },
  {
   "cell_type": "code",
   "execution_count": 98,
   "metadata": {},
   "outputs": [
    {
     "data": {
      "text/plain": [
       "Indices    float64\n",
       "Scores     float64\n",
       "Players     object\n",
       "dtype: object"
      ]
     },
     "execution_count": 98,
     "metadata": {},
     "output_type": "execute_result"
    }
   ],
   "source": [
    "to_plot.dtypes"
   ]
  },
  {
   "cell_type": "code",
   "execution_count": 102,
   "metadata": {},
   "outputs": [
    {
     "data": {
      "application/vnd.vegalite.v3+json": {
       "$schema": "https://vega.github.io/schema/vega-lite/v3.4.0.json",
       "config": {
        "mark": {
         "tooltip": null
        },
        "view": {
         "height": 300,
         "width": 400
        }
       },
       "data": {
        "name": "data-89840244aac133520084deaa3612cec4"
       },
       "datasets": {
        "data-89840244aac133520084deaa3612cec4": [
         {
          "Indices": 0,
          "Players": "I",
          "Scores": 77
         },
         {
          "Indices": 1,
          "Players": "I",
          "Scores": 104
         },
         {
          "Indices": 2,
          "Players": "I",
          "Scores": 96
         },
         {
          "Indices": 3,
          "Players": "I",
          "Scores": 96
         },
         {
          "Indices": 4,
          "Players": "I",
          "Scores": 48
         },
         {
          "Indices": 5,
          "Players": "I",
          "Scores": 42
         },
         {
          "Indices": 6,
          "Players": "I",
          "Scores": 81
         },
         {
          "Indices": 7,
          "Players": "I",
          "Scores": 68
         },
         {
          "Indices": 8,
          "Players": "I",
          "Scores": 116
         },
         {
          "Indices": 9,
          "Players": "I",
          "Scores": 84
         },
         {
          "Indices": 10,
          "Players": "I",
          "Scores": 78
         },
         {
          "Indices": 11,
          "Players": "I",
          "Scores": 108
         },
         {
          "Indices": 12,
          "Players": "I",
          "Scores": 65
         },
         {
          "Indices": 13,
          "Players": "I",
          "Scores": 84
         },
         {
          "Indices": 14,
          "Players": "I",
          "Scores": 81
         },
         {
          "Indices": 15,
          "Players": "I",
          "Scores": 116
         },
         {
          "Indices": 16,
          "Players": "I",
          "Scores": 56
         },
         {
          "Indices": 17,
          "Players": "I",
          "Scores": 90
         },
         {
          "Indices": 18,
          "Players": "I",
          "Scores": 68
         },
         {
          "Indices": 19,
          "Players": "I",
          "Scores": 80
         },
         {
          "Indices": 20,
          "Players": "I",
          "Scores": 72
         },
         {
          "Indices": 21,
          "Players": "I",
          "Scores": 77
         },
         {
          "Indices": 22,
          "Players": "I",
          "Scores": 76
         },
         {
          "Indices": 23,
          "Players": "I",
          "Scores": 78
         },
         {
          "Indices": 24,
          "Players": "I",
          "Scores": 22
         },
         {
          "Indices": 25,
          "Players": "I",
          "Scores": 50
         },
         {
          "Indices": 26,
          "Players": "I",
          "Scores": 35
         },
         {
          "Indices": 27,
          "Players": "I",
          "Scores": 80
         },
         {
          "Indices": 28,
          "Players": "I",
          "Scores": 82
         },
         {
          "Indices": 29,
          "Players": "I",
          "Scores": 54
         },
         {
          "Indices": 30,
          "Players": "I",
          "Scores": 114
         },
         {
          "Indices": 31,
          "Players": "I",
          "Scores": 127
         },
         {
          "Indices": 32,
          "Players": "I",
          "Scores": 81
         },
         {
          "Indices": 33,
          "Players": "I",
          "Scores": 118
         },
         {
          "Indices": 34,
          "Players": "I",
          "Scores": 65
         },
         {
          "Indices": 35,
          "Players": "I",
          "Scores": 87
         },
         {
          "Indices": 36,
          "Players": "I",
          "Scores": 94
         },
         {
          "Indices": 37,
          "Players": "I",
          "Scores": 65
         },
         {
          "Indices": 38,
          "Players": "I",
          "Scores": 172
         },
         {
          "Indices": 39,
          "Players": "I",
          "Scores": 59
         },
         {
          "Indices": 40,
          "Players": "I",
          "Scores": 54
         },
         {
          "Indices": 41,
          "Players": "I",
          "Scores": 97
         },
         {
          "Indices": 42,
          "Players": "I",
          "Scores": 108
         },
         {
          "Indices": 43,
          "Players": "I",
          "Scores": 75
         },
         {
          "Indices": 44,
          "Players": "I",
          "Scores": 97
         },
         {
          "Indices": 45,
          "Players": "I",
          "Scores": 118
         },
         {
          "Indices": 46,
          "Players": "I",
          "Scores": 64
         },
         {
          "Indices": 47,
          "Players": "I",
          "Scores": 104
         },
         {
          "Indices": 48,
          "Players": "I",
          "Scores": 94
         },
         {
          "Indices": 49,
          "Players": "I",
          "Scores": 82
         },
         {
          "Indices": 50,
          "Players": "I",
          "Scores": 67
         },
         {
          "Indices": 51,
          "Players": "I",
          "Scores": 96
         },
         {
          "Indices": 52,
          "Players": "I",
          "Scores": 114
         },
         {
          "Indices": 53,
          "Players": "I",
          "Scores": 92
         },
         {
          "Indices": 54,
          "Players": "I",
          "Scores": 80
         },
         {
          "Indices": 55,
          "Players": "I",
          "Scores": 88
         },
         {
          "Indices": 56,
          "Players": "I",
          "Scores": 97
         },
         {
          "Indices": 57,
          "Players": "I",
          "Scores": 63
         },
         {
          "Indices": 58,
          "Players": "I",
          "Scores": 119
         },
         {
          "Indices": 59,
          "Players": "I",
          "Scores": 124
         },
         {
          "Indices": 60,
          "Players": "I",
          "Scores": 103
         },
         {
          "Indices": 61,
          "Players": "I",
          "Scores": 97
         },
         {
          "Indices": 62,
          "Players": "I",
          "Scores": 107
         },
         {
          "Indices": 63,
          "Players": "I",
          "Scores": 65
         },
         {
          "Indices": 64,
          "Players": "I",
          "Scores": 97
         },
         {
          "Indices": 65,
          "Players": "I",
          "Scores": 135
         },
         {
          "Indices": 0,
          "Players": "M",
          "Scores": 77
         },
         {
          "Indices": 1,
          "Players": "M",
          "Scores": 65
         },
         {
          "Indices": 2,
          "Players": "M",
          "Scores": 62
         },
         {
          "Indices": 3,
          "Players": "M",
          "Scores": 78
         },
         {
          "Indices": 4,
          "Players": "M",
          "Scores": 54
         },
         {
          "Indices": 5,
          "Players": "M",
          "Scores": 51
         },
         {
          "Indices": 6,
          "Players": "M",
          "Scores": 72
         },
         {
          "Indices": 7,
          "Players": "M",
          "Scores": 83
         },
         {
          "Indices": 8,
          "Players": "M",
          "Scores": 64
         },
         {
          "Indices": 9,
          "Players": "M",
          "Scores": 56
         },
         {
          "Indices": 10,
          "Players": "M",
          "Scores": 86
         },
         {
          "Indices": 11,
          "Players": "M",
          "Scores": 60
         },
         {
          "Indices": 12,
          "Players": "M",
          "Scores": 61
         },
         {
          "Indices": 13,
          "Players": "M",
          "Scores": 54
         },
         {
          "Indices": 14,
          "Players": "M",
          "Scores": 64
         },
         {
          "Indices": 15,
          "Players": "M",
          "Scores": 53
         },
         {
          "Indices": 16,
          "Players": "M",
          "Scores": 77
         },
         {
          "Indices": 17,
          "Players": "M",
          "Scores": 27
         },
         {
          "Indices": 18,
          "Players": "M",
          "Scores": 72
         },
         {
          "Indices": 19,
          "Players": "M",
          "Scores": 68
         },
         {
          "Indices": 20,
          "Players": "M",
          "Scores": 58
         },
         {
          "Indices": 21,
          "Players": "M",
          "Scores": 43
         },
         {
          "Indices": 22,
          "Players": "M",
          "Scores": 46
         },
         {
          "Indices": 23,
          "Players": "M",
          "Scores": 84
         },
         {
          "Indices": 24,
          "Players": "M",
          "Scores": 67
         },
         {
          "Indices": 25,
          "Players": "M",
          "Scores": 69
         },
         {
          "Indices": 26,
          "Players": "M",
          "Scores": 47
         },
         {
          "Indices": 27,
          "Players": "M",
          "Scores": 46
         },
         {
          "Indices": 28,
          "Players": "M",
          "Scores": 71
         },
         {
          "Indices": 29,
          "Players": "M",
          "Scores": 77
         },
         {
          "Indices": 30,
          "Players": "M",
          "Scores": 84
         },
         {
          "Indices": 31,
          "Players": "M",
          "Scores": 58
         },
         {
          "Indices": 32,
          "Players": "M",
          "Scores": 66
         },
         {
          "Indices": 33,
          "Players": "M",
          "Scores": 132
         },
         {
          "Indices": 34,
          "Players": "M",
          "Scores": 21
         },
         {
          "Indices": 35,
          "Players": "M",
          "Scores": 77
         },
         {
          "Indices": 36,
          "Players": "M",
          "Scores": 59
         },
         {
          "Indices": 37,
          "Players": "M",
          "Scores": 65
         },
         {
          "Indices": 38,
          "Players": "M",
          "Scores": 308
         },
         {
          "Indices": 39,
          "Players": "M",
          "Scores": 60
         },
         {
          "Indices": 40,
          "Players": "M",
          "Scores": 46
         },
         {
          "Indices": 41,
          "Players": "M",
          "Scores": 76
         },
         {
          "Indices": 42,
          "Players": "M",
          "Scores": 104
         },
         {
          "Indices": 43,
          "Players": "M",
          "Scores": 58
         },
         {
          "Indices": 44,
          "Players": "M",
          "Scores": 64
         },
         {
          "Indices": 45,
          "Players": "M",
          "Scores": 65
         },
         {
          "Indices": 46,
          "Players": "M",
          "Scores": 73
         },
         {
          "Indices": 47,
          "Players": "M",
          "Scores": 50
         },
         {
          "Indices": 48,
          "Players": "M",
          "Scores": 95
         },
         {
          "Indices": 49,
          "Players": "M",
          "Scores": 61
         },
         {
          "Indices": 50,
          "Players": "M",
          "Scores": 86
         },
         {
          "Indices": 51,
          "Players": "M",
          "Scores": 57
         },
         {
          "Indices": 52,
          "Players": "M",
          "Scores": 58
         },
         {
          "Indices": 53,
          "Players": "M",
          "Scores": 67
         },
         {
          "Indices": 54,
          "Players": "M",
          "Scores": 97
         },
         {
          "Indices": 55,
          "Players": "M",
          "Scores": 80
         },
         {
          "Indices": 56,
          "Players": "M",
          "Scores": 80
         },
         {
          "Indices": 57,
          "Players": "M",
          "Scores": 88
         },
         {
          "Indices": 58,
          "Players": "M",
          "Scores": 109
         },
         {
          "Indices": 59,
          "Players": "M",
          "Scores": 132
         },
         {
          "Indices": 60,
          "Players": "M",
          "Scores": 68
         },
         {
          "Indices": 61,
          "Players": "M",
          "Scores": 152
         },
         {
          "Indices": 62,
          "Players": "M",
          "Scores": 56
         },
         {
          "Indices": 63,
          "Players": "M",
          "Scores": 33
         },
         {
          "Indices": 64,
          "Players": "M",
          "Scores": 86
         },
         {
          "Indices": 65,
          "Players": "M",
          "Scores": 120
         }
        ]
       },
       "encoding": {
        "color": {
         "field": "Players",
         "scale": {
          "range": [
           "red",
           "green",
           "blue"
          ]
         },
         "type": "nominal"
        },
        "x": {
         "field": "Indices",
         "type": "quantitative"
        },
        "y": {
         "field": "Scores",
         "type": "quantitative"
        }
       },
       "mark": "line"
      },
      "image/png": "[encoded data removed]",
      "text/plain": [
       "<VegaLite 3 object>\n",
       "\n",
       "If you see this message, it means the renderer has not been properly enabled\n",
       "for the frontend that you are using. For more information, see\n",
       "https://altair-viz.github.io/user_guide/troubleshooting.html\n"
      ]
     },
     "execution_count": 102,
     "metadata": {},
     "output_type": "execute_result"
    }
   ],
   "source": [
    "colors = ['red', 'green']\n",
    "alt.Chart(to_plot).mark_line().encode(\n",
    "    x='Indices:Q',\n",
    "    y='Scores:Q',\n",
    "    color=alt.Color('Players', scale=alt.Scale(range=colors))\n",
    ")"
   ]
  },
  {
   "cell_type": "code",
   "execution_count": 13,
   "metadata": {},
   "outputs": [
    {
     "data": {
      "text/plain": [
       "array(['Qwixx', 'Mind', 'KeyForge', 'Sushi Go!', 'Jaipur',\n",
       "       'Schotten Totten', 'Splendor', 'Rozenkoning',\n",
       "       'Discover Lands Unknown', 'Santorini', 'Claim', 'Kingdomino ',\n",
       "       'Verboden Eiland', '7 Wonders Duel', \"What's up\", 'Unlock',\n",
       "       'Claim 2', 'Port Royal', 'Vergeten Stad', 'Fox in the Forest',\n",
       "       'Welcome to…', 'Raptor', 'Regenwormen', 'Machiavelli',\n",
       "       'Magic Maze', 'Azul', 'Codenames Duet'], dtype=object)"
      ]
     },
     "execution_count": 13,
     "metadata": {},
     "output_type": "execute_result"
    }
   ],
   "source": [
    "df.Game.unique()"
   ]
  },
  {
   "cell_type": "code",
   "execution_count": 15,
   "metadata": {},
   "outputs": [],
   "source": [
    "selected_game = 'Magic Maze'\n",
    "selection = df.loc[(df.Game == selected_game), :]\n",
    "score_selection = selection.loc[:, [column for column in selection.columns if ('score' in column) & ('has_score' not in column)]]\n",
    "\n"
   ]
  },
  {
   "cell_type": "code",
   "execution_count": 35,
   "metadata": {},
   "outputs": [
    {
     "name": "stderr",
     "output_type": "stream",
     "text": [
      "c:\\programdata\\miniconda3\\lib\\site-packages\\ipykernel_launcher.py:2: DeprecationWarning: The truth value of an empty array is ambiguous. Returning False, but in future this will result in an error. Use `array.size > 0` to check that an array is not empty.\n",
      "  \n"
     ]
    }
   ],
   "source": [
    "df.loc[(df.Game == 'Codenames Duet')&\n",
    "       (), 'has_score'].values"
   ]
  },
  {
   "cell_type": "code",
   "execution_count": 37,
   "metadata": {},
   "outputs": [],
   "source": [
    "is_loaded_header = st.sidebar.subheader(\"⭕️ Data not loaded\")\n"
   ]
  },
  {
   "cell_type": "code",
   "execution_count": 38,
   "metadata": {},
   "outputs": [
    {
     "data": {
      "text/plain": [
       "streamlit.DeltaGenerator.DeltaGenerator"
      ]
     },
     "execution_count": 38,
     "metadata": {},
     "output_type": "execute_result"
    }
   ],
   "source": [
    "type(is_loaded_header)"
   ]
  },
  {
   "cell_type": "markdown",
   "metadata": {},
   "source": [
    "## Altair"
   ]
  },
  {
   "cell_type": "code",
   "execution_count": 6,
   "metadata": {},
   "outputs": [
    {
     "data": {
      "text/html": [
       "<div>\n",
       "<style scoped>\n",
       "    .dataframe tbody tr th:only-of-type {\n",
       "        vertical-align: middle;\n",
       "    }\n",
       "\n",
       "    .dataframe tbody tr th {\n",
       "        vertical-align: top;\n",
       "    }\n",
       "\n",
       "    .dataframe thead th {\n",
       "        text-align: right;\n",
       "    }\n",
       "</style>\n",
       "<table border=\"1\" class=\"dataframe\">\n",
       "  <thead>\n",
       "    <tr style=\"text-align: right;\">\n",
       "      <th></th>\n",
       "      <th>Game</th>\n",
       "      <th>M_score</th>\n",
       "    </tr>\n",
       "  </thead>\n",
       "  <tbody>\n",
       "    <tr>\n",
       "      <th>0</th>\n",
       "      <td>7 Wonders Duel</td>\n",
       "      <td>52.000000</td>\n",
       "    </tr>\n",
       "    <tr>\n",
       "      <th>1</th>\n",
       "      <td>Azul</td>\n",
       "      <td>57.333333</td>\n",
       "    </tr>\n",
       "    <tr>\n",
       "      <th>2</th>\n",
       "      <td>Claim</td>\n",
       "      <td>2.250000</td>\n",
       "    </tr>\n",
       "    <tr>\n",
       "      <th>3</th>\n",
       "      <td>Claim 2</td>\n",
       "      <td>3.000000</td>\n",
       "    </tr>\n",
       "    <tr>\n",
       "      <th>4</th>\n",
       "      <td>Fox in the Forest</td>\n",
       "      <td>18.250000</td>\n",
       "    </tr>\n",
       "  </tbody>\n",
       "</table>\n",
       "</div>"
      ],
      "text/plain": [
       "                Game    M_score\n",
       "0     7 Wonders Duel  52.000000\n",
       "1               Azul  57.333333\n",
       "2              Claim   2.250000\n",
       "3            Claim 2   3.000000\n",
       "4  Fox in the Forest  18.250000"
      ]
     },
     "execution_count": 6,
     "metadata": {},
     "output_type": "execute_result"
    }
   ],
   "source": [
    "selection.head()"
   ]
  },
  {
   "cell_type": "code",
   "execution_count": 22,
   "metadata": {},
   "outputs": [
    {
     "data": {
      "application/vnd.vegalite.v3+json": {
       "$schema": "https://vega.github.io/schema/vega-lite/v3.4.0.json",
       "config": {
        "mark": {
         "tooltip": null
        },
        "view": {
         "height": 300,
         "width": 400
        }
       },
       "data": {
        "name": "data-53a5c7d50b91c2c6f1142fb107f3d338"
       },
       "datasets": {
        "data-53a5c7d50b91c2c6f1142fb107f3d338": [
         {
          "Game": "7 Wonders Duel",
          "M_score": 52
         },
         {
          "Game": "Azul",
          "M_score": 57.333333333333336
         },
         {
          "Game": "Claim",
          "M_score": 2.25
         },
         {
          "Game": "Claim 2",
          "M_score": 3
         },
         {
          "Game": "Fox in the Forest",
          "M_score": 18.25
         },
         {
          "Game": "Jaipur",
          "M_score": 71.57142857142857
         },
         {
          "Game": "KeyForge",
          "M_score": 2
         },
         {
          "Game": "Kingdomino ",
          "M_score": 46.333333333333336
         },
         {
          "Game": "Machiavelli",
          "M_score": 23
         },
         {
          "Game": "Port Royal",
          "M_score": 9
         },
         {
          "Game": "Qwixx",
          "M_score": 73.98484848484848
         },
         {
          "Game": "Raptor",
          "M_score": 1
         },
         {
          "Game": "Regenwormen",
          "M_score": 9.25
         },
         {
          "Game": "Rozenkoning",
          "M_score": 127.5
         },
         {
          "Game": "Santorini",
          "M_score": 1
         },
         {
          "Game": "Schotten Totten",
          "M_score": 3.125
         },
         {
          "Game": "Splendor",
          "M_score": 15
         },
         {
          "Game": "Sushi Go!",
          "M_score": 39
         },
         {
          "Game": "Welcome to…",
          "M_score": 82.6
         },
         {
          "Game": "What's up",
          "M_score": 10.5
         }
        ]
       },
       "height": 900,
       "layer": [
        {
         "encoding": {
          "x": {
           "field": "M_score",
           "type": "quantitative"
          },
          "y": {
           "field": "Game",
           "type": "ordinal"
          }
         },
         "mark": "bar"
        },
        {
         "encoding": {
          "text": {
           "field": "M_score",
           "type": "quantitative"
          },
          "x": {
           "field": "M_score",
           "type": "quantitative"
          },
          "y": {
           "field": "Game",
           "type": "ordinal"
          }
         },
         "mark": {
          "align": "left",
          "baseline": "middle",
          "dx": 3,
          "type": "text"
         }
        }
       ]
      },
      "image/png": "[encoded data removed]",
      "text/plain": [
       "<VegaLite 3 object>\n",
       "\n",
       "If you see this message, it means the renderer has not been properly enabled\n",
       "for the frontend that you are using. For more information, see\n",
       "https://altair-viz.github.io/user_guide/troubleshooting.html\n"
      ]
     },
     "execution_count": 22,
     "metadata": {},
     "output_type": "execute_result"
    }
   ],
   "source": [
    "source = data.wheat()\n",
    "\n",
    "bars = alt.Chart(selection).mark_bar().encode(\n",
    "    x='M_score:Q',\n",
    "    y=\"Game:O\"\n",
    ")\n",
    "\n",
    "text = bars.mark_text(\n",
    "    align='left',\n",
    "    baseline='middle',\n",
    "    dx=3  # Nudges text to right so it doesn't appear on top of the bar\n",
    ").encode(\n",
    "    text='M_score:Q'\n",
    ")\n",
    "\n",
    "(bars + text).properties(height=900)"
   ]
  },
  {
   "cell_type": "code",
   "execution_count": 8,
   "metadata": {},
   "outputs": [
    {
     "data": {
      "text/plain": [
       "Index(['Date', 'Players', 'Game', 'Scores', 'Winner', 'Version', 'IR_score',\n",
       "       'IR_winner', 'IR_played', 'M_score', 'M_winner', 'M_played', 'G_score',\n",
       "       'G_winner', 'G_played', 'E_score', 'E_winner', 'E_played', 'PA_score',\n",
       "       'PA_winner', 'PA_played', 'DA_score', 'DA_winner', 'DA_played',\n",
       "       'EV_score', 'EV_winner', 'EV_played', 'C_score', 'C_winner', 'C_played',\n",
       "       'MA_score', 'MA_winner', 'MA_played', 'I_score', 'I_winner', 'I_played',\n",
       "       'WO_score', 'WO_winner', 'WO_played', 'has_score', 'has_winner'],\n",
       "      dtype='object')"
      ]
     },
     "execution_count": 8,
     "metadata": {},
     "output_type": "execute_result"
    }
   ],
   "source": [
    "df.columns"
   ]
  },
  {
   "cell_type": "code",
   "execution_count": 7,
   "metadata": {},
   "outputs": [],
   "source": [
    "player = \"M\"\n",
    "selected_game = \"Qwixx\"\n",
    "selection = df.loc[df[player+\"_played\"]==1, :]\n",
    "selection = selection.loc[(selection.Game == selected_game), :]"
   ]
  },
  {
   "cell_type": "code",
   "execution_count": 8,
   "metadata": {},
   "outputs": [
    {
     "data": {
      "text/html": [
       "<div>\n",
       "<style scoped>\n",
       "    .dataframe tbody tr th:only-of-type {\n",
       "        vertical-align: middle;\n",
       "    }\n",
       "\n",
       "    .dataframe tbody tr th {\n",
       "        vertical-align: top;\n",
       "    }\n",
       "\n",
       "    .dataframe thead th {\n",
       "        text-align: right;\n",
       "    }\n",
       "</style>\n",
       "<table border=\"1\" class=\"dataframe\">\n",
       "  <thead>\n",
       "    <tr style=\"text-align: right;\">\n",
       "      <th></th>\n",
       "      <th>Date</th>\n",
       "      <th>Players</th>\n",
       "      <th>Game</th>\n",
       "      <th>Scores</th>\n",
       "      <th>Winner</th>\n",
       "      <th>Version</th>\n",
       "      <th>IR_score</th>\n",
       "      <th>IR_winner</th>\n",
       "      <th>IR_played</th>\n",
       "      <th>C_score</th>\n",
       "      <th>...</th>\n",
       "      <th>DA_winner</th>\n",
       "      <th>DA_played</th>\n",
       "      <th>E_score</th>\n",
       "      <th>E_winner</th>\n",
       "      <th>E_played</th>\n",
       "      <th>MA_score</th>\n",
       "      <th>MA_winner</th>\n",
       "      <th>MA_played</th>\n",
       "      <th>has_score</th>\n",
       "      <th>has_winner</th>\n",
       "    </tr>\n",
       "  </thead>\n",
       "  <tbody>\n",
       "    <tr>\n",
       "      <th>0</th>\n",
       "      <td>2018-11-18</td>\n",
       "      <td>I+M</td>\n",
       "      <td>Qwixx</td>\n",
       "      <td>I77+M77</td>\n",
       "      <td>I+M</td>\n",
       "      <td>Normal</td>\n",
       "      <td>0</td>\n",
       "      <td>0</td>\n",
       "      <td>0</td>\n",
       "      <td>0</td>\n",
       "      <td>...</td>\n",
       "      <td>0</td>\n",
       "      <td>0</td>\n",
       "      <td>0</td>\n",
       "      <td>0</td>\n",
       "      <td>0</td>\n",
       "      <td>0</td>\n",
       "      <td>0</td>\n",
       "      <td>0</td>\n",
       "      <td>1</td>\n",
       "      <td>1</td>\n",
       "    </tr>\n",
       "    <tr>\n",
       "      <th>1</th>\n",
       "      <td>2018-11-18</td>\n",
       "      <td>I+M</td>\n",
       "      <td>Qwixx</td>\n",
       "      <td>I104+M65</td>\n",
       "      <td>I</td>\n",
       "      <td>Normal</td>\n",
       "      <td>0</td>\n",
       "      <td>0</td>\n",
       "      <td>0</td>\n",
       "      <td>0</td>\n",
       "      <td>...</td>\n",
       "      <td>0</td>\n",
       "      <td>0</td>\n",
       "      <td>0</td>\n",
       "      <td>0</td>\n",
       "      <td>0</td>\n",
       "      <td>0</td>\n",
       "      <td>0</td>\n",
       "      <td>0</td>\n",
       "      <td>1</td>\n",
       "      <td>1</td>\n",
       "    </tr>\n",
       "    <tr>\n",
       "      <th>2</th>\n",
       "      <td>2018-11-18</td>\n",
       "      <td>I+M</td>\n",
       "      <td>Qwixx</td>\n",
       "      <td>I96+M62</td>\n",
       "      <td>I</td>\n",
       "      <td>Normal</td>\n",
       "      <td>0</td>\n",
       "      <td>0</td>\n",
       "      <td>0</td>\n",
       "      <td>0</td>\n",
       "      <td>...</td>\n",
       "      <td>0</td>\n",
       "      <td>0</td>\n",
       "      <td>0</td>\n",
       "      <td>0</td>\n",
       "      <td>0</td>\n",
       "      <td>0</td>\n",
       "      <td>0</td>\n",
       "      <td>0</td>\n",
       "      <td>1</td>\n",
       "      <td>1</td>\n",
       "    </tr>\n",
       "    <tr>\n",
       "      <th>7</th>\n",
       "      <td>2018-11-22</td>\n",
       "      <td>I+M</td>\n",
       "      <td>Qwixx</td>\n",
       "      <td>I96+M78</td>\n",
       "      <td>I</td>\n",
       "      <td>Normal</td>\n",
       "      <td>0</td>\n",
       "      <td>0</td>\n",
       "      <td>0</td>\n",
       "      <td>0</td>\n",
       "      <td>...</td>\n",
       "      <td>0</td>\n",
       "      <td>0</td>\n",
       "      <td>0</td>\n",
       "      <td>0</td>\n",
       "      <td>0</td>\n",
       "      <td>0</td>\n",
       "      <td>0</td>\n",
       "      <td>0</td>\n",
       "      <td>1</td>\n",
       "      <td>1</td>\n",
       "    </tr>\n",
       "    <tr>\n",
       "      <th>8</th>\n",
       "      <td>2018-11-22</td>\n",
       "      <td>I+M</td>\n",
       "      <td>Qwixx</td>\n",
       "      <td>I48+M54</td>\n",
       "      <td>M</td>\n",
       "      <td>Normal</td>\n",
       "      <td>0</td>\n",
       "      <td>0</td>\n",
       "      <td>0</td>\n",
       "      <td>0</td>\n",
       "      <td>...</td>\n",
       "      <td>0</td>\n",
       "      <td>0</td>\n",
       "      <td>0</td>\n",
       "      <td>0</td>\n",
       "      <td>0</td>\n",
       "      <td>0</td>\n",
       "      <td>0</td>\n",
       "      <td>0</td>\n",
       "      <td>1</td>\n",
       "      <td>1</td>\n",
       "    </tr>\n",
       "  </tbody>\n",
       "</table>\n",
       "<p>5 rows × 41 columns</p>\n",
       "</div>"
      ],
      "text/plain": [
       "        Date Players   Game    Scores Winner Version  IR_score  IR_winner  \\\n",
       "0 2018-11-18     I+M  Qwixx   I77+M77    I+M  Normal         0          0   \n",
       "1 2018-11-18     I+M  Qwixx  I104+M65      I  Normal         0          0   \n",
       "2 2018-11-18     I+M  Qwixx   I96+M62      I  Normal         0          0   \n",
       "7 2018-11-22     I+M  Qwixx   I96+M78      I  Normal         0          0   \n",
       "8 2018-11-22     I+M  Qwixx   I48+M54      M  Normal         0          0   \n",
       "\n",
       "   IR_played  C_score  ...  DA_winner  DA_played  E_score  E_winner  E_played  \\\n",
       "0          0        0  ...          0          0        0         0         0   \n",
       "1          0        0  ...          0          0        0         0         0   \n",
       "2          0        0  ...          0          0        0         0         0   \n",
       "7          0        0  ...          0          0        0         0         0   \n",
       "8          0        0  ...          0          0        0         0         0   \n",
       "\n",
       "   MA_score  MA_winner  MA_played  has_score  has_winner  \n",
       "0         0          0          0          1           1  \n",
       "1         0          0          0          1           1  \n",
       "2         0          0          0          1           1  \n",
       "7         0          0          0          1           1  \n",
       "8         0          0          0          1           1  \n",
       "\n",
       "[5 rows x 41 columns]"
      ]
     },
     "execution_count": 8,
     "metadata": {},
     "output_type": "execute_result"
    }
   ],
   "source": [
    "selection.head()"
   ]
  },
  {
   "cell_type": "markdown",
   "metadata": {},
   "source": [
    "## Bar Race"
   ]
  },
  {
   "cell_type": "code",
   "execution_count": 109,
   "metadata": {},
   "outputs": [
    {
     "data": {
      "image/png": "[encoded data removed]",
      "text/plain": [
       "<Figure size 1080x576 with 1 Axes>"
      ]
     },
     "metadata": {
      "needs_background": "light"
     },
     "output_type": "display_data"
    }
   ],
   "source": [
    "df_viz = prepare_data_for_visualization(df)\n",
    "output = prepare_data_for_bar_race(df_viz)\n",
    "plot_graph(result, 100)"
   ]
  }
 ],
 "metadata": {
  "kernelspec": {
   "display_name": "Python 3",
   "language": "python",
   "name": "python3"
  },
  "language_info": {
   "codemirror_mode": {
    "name": "ipython",
    "version": 3
   },
   "file_extension": ".py",
   "mimetype": "text/x-python",
   "name": "python",
   "nbconvert_exporter": "python",
   "pygments_lexer": "ipython3",
   "version": "3.7.3"
  }
 },
 "nbformat": 4,
 "nbformat_minor": 4
}
